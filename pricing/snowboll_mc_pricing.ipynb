{
 "cells": [
  {
   "cell_type": "code",
   "execution_count": 64,
   "id": "84e06701",
   "metadata": {},
   "outputs": [],
   "source": [
    "import numpy as np\n",
    "from typing import List\n",
    "import cupy as cp"
   ]
  },
  {
   "cell_type": "code",
   "execution_count": 68,
   "id": "b892d6eb",
   "metadata": {},
   "outputs": [],
   "source": [
    "#参数设置\n",
    "s0: float = 100\n",
    "knock_in: float = 90 #敲入水平\n",
    "knock_out: float = 100 #敲出水平\n",
    "N: int = 252 #一年的交易日\n",
    "view_day: List[int] = [i*21-1 for i in range(1,13)] #敲出观察日\n",
    "T: int = 1 #时间是一年\n",
    "coupon_rate: float = 0.2 #票息率\n",
    "r: float = 0 #无风险利率\n",
    "sigma: float = 0.16 #波动率"
   ]
  },
  {
   "cell_type": "code",
   "execution_count": 66,
   "metadata": {},
   "outputs": [],
   "source": [
    "def cp_simulate_mc():\n",
    "    tstep, npath = 252, 1000000\n",
    "    s0 = 100\n",
    "    r = 0.05\n",
    "    sigma = 0.2\n",
    "    T = 1\n",
    "    dt = T / tstep\n",
    "    z = cp.random.normal(size = (tstep + 1, npath))\n",
    "    st = cp.zeros((tstep + 1, npath))\n",
    "    st[0] = s0\n",
    "    for t in range(1, tstep + 1):\n",
    "        st[t] = st[t - 1] * cp.exp((r - 0.5 * sigma ** 2) * dt + sigma * cp.sqrt(dt) * z[t])\n",
    "    #先考虑敲出场景\n",
    "\n",
    "    knock_out_scenario = cp.tile(view_day, (1000000,1)).T  #先生成和观察日有关的网格\n",
    "    knock_out_scenario = cp.where(st[view_day] > knock_out, knock_out_scenario, cp.inf)  #敲出的时候，记录下观察日\n",
    "    knock_out_date = np.min(knock_out_scenario, axis=0) #每列最小的数，精确记录每条路径的具体敲出日，如果无敲出则保留inf\n",
    "    knock_out_month = (knock_out_date + 1) / 21 #每条路径分别第几个月敲出\n",
    "    is_knock_out = knock_out_month != np.inf\n",
    "    not_knock_out = knock_out_month == np.inf\n",
    "    knock_out_year = knock_out_month[is_knock_out] / 12 #把月份化为年\n",
    "    knock_out_profit = np.sum(knock_out_year * coupon_rate * np.exp(-r * knock_out_year)) #把payoff先折现再求和,计算敲出总所入\n",
    "    #下面考虑不敲出的情形，分为曾经敲入过和从未敲入过\n",
    "    knock_in_scenario = np.any(st < knock_in, axis=0) #判断某一条路径是否有敲入\n",
    "    hold_to_maturity = (knock_in_scenario == False) & not_knock_out #持有到期，没有敲入也没有敲出\n",
    "    hold_to_maturity_count = np.count_nonzero(hold_to_maturity) #平稳持有到期路径条数\n",
    "    htm_profit = hold_to_maturity_count * coupon_rate * np.exp(-r * T) #平稳持有到期收入\n",
    "    loss = np.sum((st[-1, not_knock_out & (knock_in_scenario == True) & (st[-1] < s0)] / s0 - 1) * np.exp(-r * T)) #敲入造成的总亏损，对于st>s0的情况，损益为0，不需要考虑\n",
    "    price = (htm_profit + knock_out_profit + loss)/1000000\n",
    "    return price"
   ]
  },
  {
   "cell_type": "code",
   "execution_count": 67,
   "metadata": {},
   "outputs": [
    {
     "output_type": "stream",
     "name": "stdout",
     "text": "349 ms ± 171 µs per loop (mean ± std. dev. of 7 runs, 1 loop each)\n"
    }
   ],
   "source": [
    "%timeit cp_simulate_mc()"
   ]
  },
  {
   "cell_type": "code",
   "execution_count": 68,
   "metadata": {},
   "outputs": [],
   "source": [
    "def st_simulate_mc():\n",
    "    tstep, npath = 252, 1000000\n",
    "    s0 = 100\n",
    "    r = 0.05\n",
    "    sigma = 0.2\n",
    "    T = 1\n",
    "    dt = T / tstep\n",
    "    z = cp.random.normal(size = (tstep + 1, npath))\n",
    "    path = cp.zeros((tstep + 1, npath))\n",
    "    path[0] = s0\n",
    "    for t in range(1, tstep + 1):\n",
    "        path[t] = path[t - 1] * cp.exp((r - 0.5 * sigma ** 2) * dt + sigma * cp.sqrt(dt) * z[t])\n",
    "    return path"
   ]
  },
  {
   "cell_type": "code",
   "execution_count": 69,
   "metadata": {},
   "outputs": [
    {
     "output_type": "error",
     "ename": "KeyboardInterrupt",
     "evalue": "",
     "traceback": [
      "\u001b[1;31m---------------------------------------------------------------------------\u001b[0m",
      "\u001b[1;31mKeyboardInterrupt\u001b[0m                         Traceback (most recent call last)",
      "Cell \u001b[1;32mIn[69], line 1\u001b[0m\n\u001b[1;32m----> 1\u001b[0m \u001b[43mget_ipython\u001b[49m\u001b[43m(\u001b[49m\u001b[43m)\u001b[49m\u001b[38;5;241;43m.\u001b[39;49m\u001b[43mrun_line_magic\u001b[49m\u001b[43m(\u001b[49m\u001b[38;5;124;43m'\u001b[39;49m\u001b[38;5;124;43mtimeit\u001b[39;49m\u001b[38;5;124;43m'\u001b[39;49m\u001b[43m,\u001b[49m\u001b[43m \u001b[49m\u001b[38;5;124;43m'\u001b[39;49m\u001b[38;5;124;43mst_simulate_mc()\u001b[39;49m\u001b[38;5;124;43m'\u001b[39;49m\u001b[43m)\u001b[49m\n",
      "File \u001b[1;32m~\\AppData\\Local\\Programs\\Python\\Python38\\lib\\site-packages\\IPython\\core\\interactiveshell.py:2369\u001b[0m, in \u001b[0;36mInteractiveShell.run_line_magic\u001b[1;34m(self, magic_name, line, _stack_depth)\u001b[0m\n\u001b[0;32m   2367\u001b[0m     kwargs[\u001b[38;5;124m'\u001b[39m\u001b[38;5;124mlocal_ns\u001b[39m\u001b[38;5;124m'\u001b[39m] \u001b[38;5;241m=\u001b[39m \u001b[38;5;28mself\u001b[39m\u001b[38;5;241m.\u001b[39mget_local_scope(stack_depth)\n\u001b[0;32m   2368\u001b[0m \u001b[38;5;28;01mwith\u001b[39;00m \u001b[38;5;28mself\u001b[39m\u001b[38;5;241m.\u001b[39mbuiltin_trap:\n\u001b[1;32m-> 2369\u001b[0m     result \u001b[38;5;241m=\u001b[39m \u001b[43mfn\u001b[49m\u001b[43m(\u001b[49m\u001b[38;5;241;43m*\u001b[39;49m\u001b[43margs\u001b[49m\u001b[43m,\u001b[49m\u001b[43m \u001b[49m\u001b[38;5;241;43m*\u001b[39;49m\u001b[38;5;241;43m*\u001b[39;49m\u001b[43mkwargs\u001b[49m\u001b[43m)\u001b[49m\n\u001b[0;32m   2371\u001b[0m \u001b[38;5;66;03m# The code below prevents the output from being displayed\u001b[39;00m\n\u001b[0;32m   2372\u001b[0m \u001b[38;5;66;03m# when using magics with decodator @output_can_be_silenced\u001b[39;00m\n\u001b[0;32m   2373\u001b[0m \u001b[38;5;66;03m# when the last Python token in the expression is a ';'.\u001b[39;00m\n\u001b[0;32m   2374\u001b[0m \u001b[38;5;28;01mif\u001b[39;00m \u001b[38;5;28mgetattr\u001b[39m(fn, magic\u001b[38;5;241m.\u001b[39mMAGIC_OUTPUT_CAN_BE_SILENCED, \u001b[38;5;28;01mFalse\u001b[39;00m):\n",
      "File \u001b[1;32m~\\AppData\\Local\\Programs\\Python\\Python38\\lib\\site-packages\\IPython\\core\\magics\\execution.py:1168\u001b[0m, in \u001b[0;36mExecutionMagics.timeit\u001b[1;34m(self, line, cell, local_ns)\u001b[0m\n\u001b[0;32m   1165\u001b[0m         \u001b[38;5;28;01mif\u001b[39;00m time_number \u001b[38;5;241m>\u001b[39m\u001b[38;5;241m=\u001b[39m \u001b[38;5;241m0.2\u001b[39m:\n\u001b[0;32m   1166\u001b[0m             \u001b[38;5;28;01mbreak\u001b[39;00m\n\u001b[1;32m-> 1168\u001b[0m all_runs \u001b[38;5;241m=\u001b[39m \u001b[43mtimer\u001b[49m\u001b[38;5;241;43m.\u001b[39;49m\u001b[43mrepeat\u001b[49m\u001b[43m(\u001b[49m\u001b[43mrepeat\u001b[49m\u001b[43m,\u001b[49m\u001b[43m \u001b[49m\u001b[43mnumber\u001b[49m\u001b[43m)\u001b[49m\n\u001b[0;32m   1169\u001b[0m best \u001b[38;5;241m=\u001b[39m \u001b[38;5;28mmin\u001b[39m(all_runs) \u001b[38;5;241m/\u001b[39m number\n\u001b[0;32m   1170\u001b[0m worst \u001b[38;5;241m=\u001b[39m \u001b[38;5;28mmax\u001b[39m(all_runs) \u001b[38;5;241m/\u001b[39m number\n",
      "File \u001b[1;32m~\\AppData\\Local\\Programs\\Python\\Python38\\lib\\timeit.py:205\u001b[0m, in \u001b[0;36mTimer.repeat\u001b[1;34m(self, repeat, number)\u001b[0m\n\u001b[0;32m    203\u001b[0m r \u001b[38;5;241m=\u001b[39m []\n\u001b[0;32m    204\u001b[0m \u001b[38;5;28;01mfor\u001b[39;00m i \u001b[38;5;129;01min\u001b[39;00m \u001b[38;5;28mrange\u001b[39m(repeat):\n\u001b[1;32m--> 205\u001b[0m     t \u001b[38;5;241m=\u001b[39m \u001b[38;5;28;43mself\u001b[39;49m\u001b[38;5;241;43m.\u001b[39;49m\u001b[43mtimeit\u001b[49m\u001b[43m(\u001b[49m\u001b[43mnumber\u001b[49m\u001b[43m)\u001b[49m\n\u001b[0;32m    206\u001b[0m     r\u001b[38;5;241m.\u001b[39mappend(t)\n\u001b[0;32m    207\u001b[0m \u001b[38;5;28;01mreturn\u001b[39;00m r\n",
      "File \u001b[1;32m~\\AppData\\Local\\Programs\\Python\\Python38\\lib\\site-packages\\IPython\\core\\magics\\execution.py:158\u001b[0m, in \u001b[0;36mTimer.timeit\u001b[1;34m(self, number)\u001b[0m\n\u001b[0;32m    156\u001b[0m gc\u001b[38;5;241m.\u001b[39mdisable()\n\u001b[0;32m    157\u001b[0m \u001b[38;5;28;01mtry\u001b[39;00m:\n\u001b[1;32m--> 158\u001b[0m     timing \u001b[38;5;241m=\u001b[39m \u001b[38;5;28;43mself\u001b[39;49m\u001b[38;5;241;43m.\u001b[39;49m\u001b[43minner\u001b[49m\u001b[43m(\u001b[49m\u001b[43mit\u001b[49m\u001b[43m,\u001b[49m\u001b[43m \u001b[49m\u001b[38;5;28;43mself\u001b[39;49m\u001b[38;5;241;43m.\u001b[39;49m\u001b[43mtimer\u001b[49m\u001b[43m)\u001b[49m\n\u001b[0;32m    159\u001b[0m \u001b[38;5;28;01mfinally\u001b[39;00m:\n\u001b[0;32m    160\u001b[0m     \u001b[38;5;28;01mif\u001b[39;00m gcold:\n",
      "File \u001b[1;32m<magic-timeit>:1\u001b[0m, in \u001b[0;36minner\u001b[1;34m(_it, _timer)\u001b[0m\n",
      "Cell \u001b[1;32mIn[68], line 12\u001b[0m, in \u001b[0;36mst_simulate_mc\u001b[1;34m()\u001b[0m\n\u001b[0;32m     10\u001b[0m path[\u001b[38;5;241m0\u001b[39m] \u001b[38;5;241m=\u001b[39m s0\n\u001b[0;32m     11\u001b[0m \u001b[38;5;28;01mfor\u001b[39;00m t \u001b[38;5;129;01min\u001b[39;00m \u001b[38;5;28mrange\u001b[39m(\u001b[38;5;241m1\u001b[39m, tstep \u001b[38;5;241m+\u001b[39m \u001b[38;5;241m1\u001b[39m):\n\u001b[1;32m---> 12\u001b[0m     path[t] \u001b[38;5;241m=\u001b[39m path[t \u001b[38;5;241m-\u001b[39m \u001b[38;5;241m1\u001b[39m] \u001b[38;5;241m*\u001b[39m cp\u001b[38;5;241m.\u001b[39mexp((r \u001b[38;5;241m-\u001b[39m \u001b[38;5;241m0.5\u001b[39m \u001b[38;5;241m*\u001b[39m sigma \u001b[38;5;241m*\u001b[39m\u001b[38;5;241m*\u001b[39m \u001b[38;5;241m2\u001b[39m) \u001b[38;5;241m*\u001b[39m dt \u001b[38;5;241m+\u001b[39m sigma \u001b[38;5;241m*\u001b[39m \u001b[43mcp\u001b[49m\u001b[38;5;241;43m.\u001b[39;49m\u001b[43msqrt\u001b[49m\u001b[43m(\u001b[49m\u001b[43mdt\u001b[49m\u001b[43m)\u001b[49m \u001b[38;5;241m*\u001b[39m z[t])\n\u001b[0;32m     13\u001b[0m \u001b[38;5;28;01mreturn\u001b[39;00m path\n",
      "\u001b[1;31mKeyboardInterrupt\u001b[0m: "
     ]
    }
   ],
   "source": [
    "%timeit st_simulate_mc()"
   ]
  },
  {
   "cell_type": "code",
   "execution_count": 69,
   "id": "7fc00391",
   "metadata": {},
   "outputs": [],
   "source": [
    "epsilon = np.random.standard_normal((251,300000)) #正态分布30万条路径"
   ]
  },
  {
   "cell_type": "code",
   "execution_count": 70,
   "id": "392b2a23",
   "metadata": {},
   "outputs": [],
   "source": [
    "dt = T / N #年化时间\n",
    "log_r = (r - 0.5 * sigma ** 2) * dt + sigma * np.sqrt(dt) * epsilon #log(ST/St)\n",
    "log_r = np.concatenate([np.zeros((1, 300000)), log_r], axis = 0) #第一天0收益"
   ]
  },
  {
   "cell_type": "code",
   "execution_count": 71,
   "id": "02d73dfe",
   "metadata": {},
   "outputs": [],
   "source": [
    "st = np.cumprod(np.exp(log_r), axis = 0) * s0 #30万条标的资产路径"
   ]
  },
  {
   "cell_type": "code",
   "execution_count": 72,
   "id": "6e07b5ab",
   "metadata": {},
   "outputs": [],
   "source": [
    "#先考虑敲出场景\n",
    "\n",
    "knock_out_scenario = np.tile(view_day, (300000,1)).T  #先生成和观察日有关的网格\n",
    "knock_out_scenario = np.where(st[view_day] > knock_out, knock_out_scenario, np.inf)  #敲出的时候，记录下观察日"
   ]
  },
  {
   "cell_type": "code",
   "execution_count": 73,
   "metadata": {},
   "outputs": [
    {
     "output_type": "execute_result",
     "data": {
      "text/plain": "array([[ 20.,  inf,  20., ...,  20.,  inf,  20.],\n       [ 41.,  41.,  41., ...,  41.,  inf,  41.],\n       [ 62.,  62.,  62., ...,  inf,  inf,  62.],\n       ...,\n       [209., 209.,  inf, ..., 209.,  inf, 209.],\n       [230.,  inf,  inf, ..., 230.,  inf, 230.],\n       [251., 251.,  inf, ..., 251.,  inf, 251.]])"
     },
     "metadata": {},
     "execution_count": 73
    }
   ],
   "source": [
    "knock_out_scenario"
   ]
  },
  {
   "cell_type": "code",
   "execution_count": 74,
   "id": "b5bc3895",
   "metadata": {},
   "outputs": [],
   "source": [
    "knock_out_date = np.min(knock_out_scenario, axis=0) #每列最小的数，精确记录每条路径的具体敲出日，如果无敲出则保留inf"
   ]
  },
  {
   "cell_type": "code",
   "execution_count": 75,
   "metadata": {},
   "outputs": [
    {
     "output_type": "execute_result",
     "data": {
      "text/plain": "array([20., 41., 20., ..., 20., inf, 20.])"
     },
     "metadata": {},
     "execution_count": 75
    }
   ],
   "source": [
    "knock_out_date"
   ]
  },
  {
   "cell_type": "code",
   "execution_count": 76,
   "id": "8c554ce4",
   "metadata": {},
   "outputs": [],
   "source": [
    "knock_out_month = (knock_out_date + 1) / 21 #每条路径分别第几个月敲出"
   ]
  },
  {
   "cell_type": "code",
   "execution_count": 77,
   "metadata": {},
   "outputs": [
    {
     "output_type": "execute_result",
     "data": {
      "text/plain": "array([ 1.,  2.,  1., ...,  1., inf,  1.])"
     },
     "metadata": {},
     "execution_count": 77
    }
   ],
   "source": [
    "knock_out_month"
   ]
  },
  {
   "cell_type": "code",
   "execution_count": 78,
   "id": "f44de743",
   "metadata": {},
   "outputs": [],
   "source": [
    "is_knock_out = knock_out_month != np.inf\n",
    "not_knock_out = knock_out_month == np.inf"
   ]
  },
  {
   "cell_type": "code",
   "execution_count": 79,
   "metadata": {},
   "outputs": [
    {
     "output_type": "execute_result",
     "data": {
      "text/plain": "array([ True,  True,  True, ...,  True, False,  True])"
     },
     "metadata": {},
     "execution_count": 79
    }
   ],
   "source": [
    "is_knock_out"
   ]
  },
  {
   "cell_type": "code",
   "execution_count": 80,
   "id": "80457273",
   "metadata": {},
   "outputs": [],
   "source": [
    "knock_out_year = knock_out_month[is_knock_out] / 12 #把月份化为年"
   ]
  },
  {
   "cell_type": "code",
   "execution_count": 81,
   "metadata": {},
   "outputs": [
    {
     "output_type": "execute_result",
     "data": {
      "text/plain": "247975"
     },
     "metadata": {},
     "execution_count": 81
    }
   ],
   "source": [
    "len(knock_out_year)"
   ]
  },
  {
   "cell_type": "code",
   "execution_count": 82,
   "id": "e367a9d9",
   "metadata": {},
   "outputs": [
    {
     "output_type": "execute_result",
     "data": {
      "text/plain": "array([0.01666667, 0.03333333, 0.01666667, ..., 0.01666667, 0.01666667,\n       0.01666667])"
     },
     "metadata": {},
     "execution_count": 82
    }
   ],
   "source": [
    "knock_out_year * coupon_rate #计算敲出路径的payoff"
   ]
  },
  {
   "cell_type": "code",
   "execution_count": 83,
   "id": "9672de57",
   "metadata": {},
   "outputs": [],
   "source": [
    "knock_out_profit = np.sum(knock_out_year * coupon_rate * np.exp(-r * knock_out_year)) #把payoff先折现再求和,计算敲出总所入\n"
   ]
  },
  {
   "cell_type": "code",
   "execution_count": 84,
   "id": "1d021b9a",
   "metadata": {},
   "outputs": [
    {
     "output_type": "execute_result",
     "data": {
      "text/plain": "9516.75"
     },
     "metadata": {},
     "execution_count": 84
    }
   ],
   "source": [
    "knock_out_profit"
   ]
  },
  {
   "cell_type": "code",
   "execution_count": 85,
   "id": "02c58089",
   "metadata": {},
   "outputs": [],
   "source": [
    "#下面考虑不敲出的情形，分为曾经敲入过和从未敲入过\n",
    "\n",
    "knock_in_scenario = np.any(st < knock_in, axis=0) #判断某一条路径是否有敲入\n"
   ]
  },
  {
   "cell_type": "code",
   "execution_count": 46,
   "metadata": {},
   "outputs": [
    {
     "output_type": "execute_result",
     "data": {
      "text/plain": "300000"
     },
     "metadata": {},
     "execution_count": 46
    }
   ],
   "source": []
  },
  {
   "cell_type": "code",
   "execution_count": 86,
   "id": "27129a15",
   "metadata": {},
   "outputs": [],
   "source": [
    "hold_to_maturity = (knock_in_scenario == False) & not_knock_out #持有到期，没有敲入也没有敲出\n"
   ]
  },
  {
   "cell_type": "code",
   "execution_count": 87,
   "id": "d1d81ade",
   "metadata": {},
   "outputs": [],
   "source": [
    "hold_to_maturity_count = np.count_nonzero(hold_to_maturity) #平稳持有到期路径条数\n"
   ]
  },
  {
   "cell_type": "code",
   "execution_count": 88,
   "id": "5db52e6b",
   "metadata": {},
   "outputs": [
    {
     "output_type": "execute_result",
     "data": {
      "text/plain": "380"
     },
     "metadata": {},
     "execution_count": 88
    }
   ],
   "source": [
    "hold_to_maturity_count"
   ]
  },
  {
   "cell_type": "code",
   "execution_count": 89,
   "id": "cb5533fd",
   "metadata": {},
   "outputs": [],
   "source": [
    "htm_profit = hold_to_maturity_count * coupon_rate * np.exp(-r * T) #平稳持有到期收入\n"
   ]
  },
  {
   "cell_type": "code",
   "execution_count": 90,
   "id": "9d91e28d",
   "metadata": {},
   "outputs": [
    {
     "output_type": "execute_result",
     "data": {
      "text/plain": "76.0"
     },
     "metadata": {},
     "execution_count": 90
    }
   ],
   "source": [
    "htm_profit #平稳持有到期总收入折现"
   ]
  },
  {
   "cell_type": "code",
   "execution_count": 91,
   "id": "0dd42b14",
   "metadata": {},
   "outputs": [],
   "source": [
    "loss = np.sum((st[-1, not_knock_out & (knock_in_scenario == True) & (st[-1] < s0)] / s0 - 1) * np.exp(-r * T)) #敲入造成的总亏损，对于st>s0的情况，损益为0，不需要考虑\n"
   ]
  },
  {
   "cell_type": "code",
   "execution_count": 92,
   "id": "13f5fcca",
   "metadata": {},
   "outputs": [
    {
     "output_type": "execute_result",
     "data": {
      "text/plain": "-8337.136302746714"
     },
     "metadata": {},
     "execution_count": 92
    }
   ],
   "source": [
    "loss"
   ]
  },
  {
   "cell_type": "code",
   "execution_count": 67,
   "id": "ff4936de",
   "metadata": {},
   "outputs": [
    {
     "output_type": "execute_result",
     "data": {
      "text/plain": "0.0038437581781596477"
     },
     "metadata": {},
     "execution_count": 67
    }
   ],
   "source": [
    "(htm_profit + knock_out_profit + loss)/300000"
   ]
  },
  {
   "cell_type": "code",
   "execution_count": 23,
   "id": "a27e959a",
   "metadata": {},
   "outputs": [],
   "source": [
    "#（附注：陈帅先当时在南华做的结果是0.05087，与我很接近）"
   ]
  },
  {
   "cell_type": "code",
   "execution_count": 60,
   "metadata": {},
   "outputs": [
    {
     "output_type": "stream",
     "name": "stdout",
     "text": "12.3 µs ± 376 ns per loop (mean ± std. dev. of 7 runs, 100,000 loops each)\n"
    }
   ],
   "source": [
    "%timeit np.linalg.inv(np.array([[1, 2],[3, 4]])) #使用cpu求逆矩阵"
   ]
  },
  {
   "cell_type": "code",
   "execution_count": 61,
   "metadata": {},
   "outputs": [
    {
     "output_type": "stream",
     "name": "stdout",
     "text": "170 µs ± 78.2 µs per loop (mean ± std. dev. of 7 runs, 1 loop each)\n"
    }
   ],
   "source": [
    "%timeit cp.linalg.inv(cp.array([[1, 2],[3, 4]])) # GPU求逆矩阵"
   ]
  },
  {
   "cell_type": "code",
   "execution_count": 1,
   "metadata": {},
   "outputs": [],
   "source": [
    "import numpy as np\n",
    "from typing import List\n",
    "import cupy as cp"
   ]
  },
  {
   "cell_type": "code",
   "execution_count": 1363,
   "metadata": {},
   "outputs": [
    {
     "output_type": "stream",
     "name": "stdout",
     "text": "[20, 41, 62, 83, 104, 125, 146, 167, 188, 209, 230, 251, 272, 293, 314, 335, 356, 377, 398, 419, 440, 461, 482, 503]\n-0.05\n"
    }
   ],
   "source": [
    "s0: float = 100\n",
    "knock_in: float = 110 #敲入水平\n",
    "knock_out: float = 100 #敲出水平\n",
    "N: int = 252 #一年的交易日\n",
    "view_day: List[int] = [i*21-1 for i in range(1,25)] #敲出观察日\n",
    "print(view_day)\n",
    "T: int = 2 #时间是一年\n",
    "coupon_rate: float = 0.0455 #票息率\n",
    "r: float = 0 #无风险利率\n",
    "sigma: float = 0.14 #波动率\n",
    "q: float = 0.05 #分红率\n",
    "drift: float = r - q #漂移率\n",
    "print(drift)"
   ]
  },
  {
   "cell_type": "code",
   "execution_count": 1364,
   "metadata": {},
   "outputs": [
    {
     "output_type": "stream",
     "name": "stdout",
     "text": "474716\n"
    },
    {
     "output_type": "execute_result",
     "data": {
      "text/plain": "array(527850.42916667)"
     },
     "metadata": {},
     "execution_count": 1364
    }
   ],
   "source": [
    "\n",
    "    tstep, npath = 504, 500000\n",
    "    dt = T / (tstep - 1)\n",
    "    z = cp.random.normal(size = (tstep + 1, npath))\n",
    "    st = cp.zeros((tstep + 1, npath))\n",
    "    st[0] = s0\n",
    "    for t in range(1, tstep + 1):\n",
    "        st[t] = st[t - 1] * cp.exp((drift - 0.5 * sigma ** 2) * dt + sigma * cp.sqrt(dt) * z[t])\n",
    "    #先考虑敲出场景\n",
    "\n",
    "    knock_out_scenario = cp.tile(view_day, (npath,1)).T  #先生成和观察日有关的网格\n",
    "    knock_out_scenario = cp.where(st[view_day] < knock_out, knock_out_scenario, cp.inf)  #向下敲出的时候，记录下观察日\n",
    "    knock_out_date = np.min(knock_out_scenario, axis=0) #每列最小的数，精确记录每条路径的具体敲出日，如果无敲出则保留inf\n",
    "    knock_out_month = (knock_out_date + 1) / 21 #每条路径分别第几个月敲出\n",
    "    is_knock_out = knock_out_month != np.inf\n",
    "    not_knock_out = knock_out_month == np.inf\n",
    "    knock_out_year = knock_out_month[is_knock_out] / 12 #把月份化为年\n",
    "    print(len(knock_out_year))\n",
    "    knock_out_profit = np.sum(knock_out_year * s0 * coupon_rate * np.exp(-r * knock_out_year)) #把payoff先折现再求和,计算敲出总所入\n",
    "knock_out_profit"
   ]
  },
  {
   "cell_type": "code",
   "execution_count": 1365,
   "metadata": {},
   "outputs": [
    {
     "output_type": "execute_result",
     "data": {
      "text/plain": "array(9.1)"
     },
     "metadata": {},
     "execution_count": 1365
    }
   ],
   "source": [
    "    #下面考虑不敲出的情形，分为曾经敲入过和从未敲入过\n",
    "    knock_in_scenario = np.any(st > knock_in, axis=0) #判断某一条路径是否有向上敲入\n",
    "    hold_to_maturity = (knock_in_scenario == False) & not_knock_out #持有到期，没有敲入也没有敲出\n",
    "    hold_to_maturity_count = np.count_nonzero(hold_to_maturity) #平稳持有到期路径条数\n",
    "    htm_profit = hold_to_maturity_count * s0 * coupon_rate * np.exp(-r * T) #平稳持有到期收入\n",
    "htm_profit"
   ]
  },
  {
   "cell_type": "code",
   "execution_count": 1366,
   "metadata": {},
   "outputs": [
    {
     "output_type": "execute_result",
     "data": {
      "text/plain": "array(-525064.56772814)"
     },
     "metadata": {},
     "execution_count": 1366
    }
   ],
   "source": [
    "    loss = np.sum((1 - st[-1, not_knock_out & (knock_in_scenario == True) & (st[-1] > s0)] / s0) * s0 * np.exp(-r * T)) #敲入造成的总亏损，对于st>s0的情况，损益为0，不需要考虑\n",
    "    loss"
   ]
  },
  {
   "cell_type": "code",
   "execution_count": 1367,
   "metadata": {},
   "outputs": [
    {
     "output_type": "execute_result",
     "data": {
      "text/plain": "array(0.00558992)"
     },
     "metadata": {},
     "execution_count": 1367
    }
   ],
   "source": [
    "price = (htm_profit + knock_out_profit + loss)/npath\n",
    "price"
   ]
  },
  {
   "cell_type": "code",
   "execution_count": 768,
   "metadata": {},
   "outputs": [],
   "source": [
    "#参数设置\n",
    "s0: float = 100\n",
    "knock_in: float = 90 #敲入水平\n",
    "knock_out: float = 100#敲出水平\n",
    "N: int = 252 #一年的交易日\n",
    "view_day: List[int] = [i*21-1 for i in range(1,13)] #敲出观察日\n",
    "T: int = 1 #时间是一年\n",
    "coupon_rate: float = 0.2 #票息率\n",
    "r: float = 0 #无风险利率\n",
    "sigma: float = 0.16 #波动率\n",
    "q: float = 0 #分红率\n",
    "drift: float = r - q #漂移率"
   ]
  },
  {
   "cell_type": "code",
   "execution_count": 123,
   "metadata": {},
   "outputs": [
    {
     "output_type": "stream",
     "name": "stdout",
     "text": "248303\n"
    },
    {
     "output_type": "execute_result",
     "data": {
      "text/plain": "array(9516.6)"
     },
     "metadata": {},
     "execution_count": 123
    }
   ],
   "source": [
    "    tstep, npath = 252, 300000\n",
    "    dt = T / tstep\n",
    "    z = cp.random.normal(size = (tstep + 1, npath))\n",
    "    st = cp.zeros((tstep + 1, npath))\n",
    "    st[0] = s0\n",
    "    for t in range(1, tstep + 1):\n",
    "        st[t] = st[t - 1] * cp.exp((drift - 0.5 * sigma ** 2) * dt + sigma * cp.sqrt(dt) * z[t])\n",
    "    #先考虑敲出场景\n",
    "\n",
    "    knock_out_scenario = cp.tile(view_day, (300000,1)).T  #先生成和观察日有关的网格\n",
    "    knock_out_scenario = cp.where(st[view_day] > knock_out, knock_out_scenario, cp.inf)  #向上敲出的时候，记录下观察日\n",
    "    knock_out_date = np.min(knock_out_scenario, axis=0) #每列最小的数，精确记录每条路径的具体敲出日，如果无敲出则保留inf\n",
    "    knock_out_month = (knock_out_date + 1) / 21 #每条路径分别第几个月敲出\n",
    "    is_knock_out = knock_out_month != np.inf\n",
    "    not_knock_out = knock_out_month == np.inf\n",
    "    knock_out_year = knock_out_month[is_knock_out] / 12 #把月份化为年\n",
    "    print(len(knock_out_year))\n",
    "    knock_out_profit = np.sum(knock_out_year * coupon_rate * np.exp(-r * knock_out_year)) #把payoff先折现再求和,计算敲出总所入\n",
    "knock_out_profit"
   ]
  },
  {
   "cell_type": "code",
   "execution_count": 101,
   "metadata": {},
   "outputs": [
    {
     "output_type": "execute_result",
     "data": {
      "text/plain": "array(72.)"
     },
     "metadata": {},
     "execution_count": 101
    }
   ],
   "source": [
    "    #下面考虑不敲出的情形，分为曾经敲入过和从未敲入过\n",
    "    knock_in_scenario = np.any(st < knock_in, axis=0) #判断某一条路径是否有向下敲入\n",
    "    hold_to_maturity = (knock_in_scenario == False) & not_knock_out #持有到期，没有敲入也没有敲出\n",
    "    hold_to_maturity_count = np.count_nonzero(hold_to_maturity) #平稳持有到期路径条数\n",
    "    htm_profit = hold_to_maturity_count * coupon_rate * np.exp(-r * T) #平稳持有到期收入\n",
    "htm_profit"
   ]
  },
  {
   "cell_type": "code",
   "execution_count": 103,
   "metadata": {},
   "outputs": [
    {
     "output_type": "execute_result",
     "data": {
      "text/plain": "array(1.73569841)"
     },
     "metadata": {},
     "execution_count": 103
    }
   ],
   "source": [
    "    loss = np.sum((st[-1, not_knock_out & (knock_in_scenario == True) & (st[-1] > s0)] / s0 - 1) * np.exp(-r * T)) #敲入造成的总亏损，对于st>s0的情况，损益为0，不需要考虑\n",
    "    loss"
   ]
  },
  {
   "cell_type": "code",
   "execution_count": 104,
   "metadata": {},
   "outputs": [
    {
     "output_type": "execute_result",
     "data": {
      "text/plain": "array(0.03194445)"
     },
     "metadata": {},
     "execution_count": 104
    }
   ],
   "source": [
    "price = (htm_profit + knock_out_profit + loss)/300000\n",
    "price"
   ]
  },
  {
   "cell_type": "code",
   "execution_count": null,
   "metadata": {},
   "outputs": [],
   "source": []
  },
  {
   "cell_type": "code",
   "execution_count": null,
   "metadata": {},
   "outputs": [],
   "source": []
  },
  {
   "cell_type": "code",
   "execution_count": null,
   "metadata": {},
   "outputs": [],
   "source": []
  }
 ],
 "metadata": {
  "kernelspec": {
   "display_name": "Python 3.8.10 64-bit",
   "language": "python",
   "name": "python381064bit9d640a958c174978837cfac7d13cd513"
  },
  "language_info": {
   "codemirror_mode": {
    "name": "ipython",
    "version": 3
   },
   "file_extension": ".py",
   "mimetype": "text/x-python",
   "name": "python",
   "nbconvert_exporter": "python",
   "pygments_lexer": "ipython3",
   "version": "3.8.10-final"
  }
 },
 "nbformat": 4,
 "nbformat_minor": 5
}